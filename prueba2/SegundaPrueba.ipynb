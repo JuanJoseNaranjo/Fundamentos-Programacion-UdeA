{
 "cells": [
  {
   "cell_type": "code",
   "execution_count": null,
   "metadata": {},
   "outputs": [],
   "source": [
    "Nombre de los participantes Prueba2\n",
    "Juan José Naranjo Velásquez CC : 1039474689\n",
    "Alejandro Mora Suarez CC: 1128437044\n",
    "Kenneth David Leonel Triana CC: 1192817456\n"
   ]
  }
 ],
 "metadata": {
  "language_info": {
   "name": "python"
  }
 },
 "nbformat": 4,
 "nbformat_minor": 2
}
