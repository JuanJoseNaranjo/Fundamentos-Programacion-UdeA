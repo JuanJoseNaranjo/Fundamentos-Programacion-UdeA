{
 "cells": [
  {
   "cell_type": "markdown",
   "metadata": {},
   "source": [
    "Nombre de los participantes Prueba1\n",
    "Juan José Naranjo Velásquez CC : 1039474689\n",
    "Alejandro Mora Suarez CC: 1128437044\n",
    "Kenneth David Leonel Triana CC: 1192817456\n"
   ]
  },
  {
   "cell_type": "markdown",
   "metadata": {},
   "source": [
    "Ejercio Parte 1"
   ]
  },
  {
   "cell_type": "code",
   "execution_count": 5,
   "metadata": {},
   "outputs": [],
   "source": [
    "#Creación de la clase Pedido \n",
    "#Generación de la clase que funcione correctamente con al menos 2 métodos y 2 atributos. \n",
    "class Pedido:\n",
    "    \"\"\"\n",
    "    Documentación Clase Pedido \n",
    "    Esta clase servira para la toma de uestros productos de mercado, en donde el usuario podrá hacer el pedido, retirarlo y calcular el costo de este\n",
    "    \n",
    "    args: \n",
    "    id_pedido: int\n",
    "    fecha:str\n",
    "    costo_pedido:float\n",
    "    descuento_pedido:float\n",
    "    \"\"\"\n",
    "    def __init__(self, id_pedido: int, fecha: str, productos:list, cantidades:list, precios:list):\n",
    "        \"\"\"\n",
    "        Se iniciailiza un Pedido con sus atributos\n",
    "            id_pedido: int -> Identificador del pedido\n",
    "            fecha: str -> Fecha en la que se realizó el pedido\n",
    "            costo_pedido: float -> Costo total del pedido\n",
    "            productos: list -> Lista de productos del pedido\n",
    "            cantidades: list -> Lista de cantidades de cada producto\n",
    "            precios: list -> Lista de precios de cada producto\n",
    "        \"\"\"\n",
    "        self.id_pedido = id_pedido\n",
    "        self.fecha = fecha\n",
    "        self.productos = []\n",
    "        self.cantidades = []\n",
    "        self.precios = []\n",
    "\n",
    "    def calcularCostoPedido(self,cantidades,precios):\n",
    "        \"\"\"\n",
    "        función que calcula el costo del pedido realizado.\n",
    "        argumentos: \n",
    "        In[0]:\n",
    "        Out[0]:\n",
    "        \"\"\"\n",
    "        total = sum(cantidad * precio for cantidad, precio in zip(cantidades, precios))\n",
    "        return total\n",
    "    def hacerPedido(self, productos:list, cantidades:list, precios:list):\n",
    "        \"\"\"\"\n",
    "        Se realiza un pedido, para ello la función va recibir los siguientes parametros\n",
    "        productos: str -> Lista de productos del pedido\n",
    "        cantidades: int -> Lista de cantidades de cada producto\n",
    "        precios: int -> Lista de precios de cada producto\n",
    "        \"\"\"\n",
    "        if len(productos) == len(cantidades) == len(precios):\n",
    "            self.productos.append(productos)\n",
    "            self.precios.append(precios)\n",
    "            self.cantidades.append(cantidades)\n",
    "            valorPedido = self.calcularCostoPedido(cantidades,precios)\n",
    "            return f\"El pedido se realizo con exito con el valor total de :{valorPedido} pesos colombianos\"\n",
    "            \n",
    "        else:\n",
    "            raise ValueError(\"Las listas deben ser del mismo tamaño\")\n",
    "        \n",
    "\n"
   ]
  },
  {
   "cell_type": "code",
   "execution_count": 6,
   "metadata": {},
   "outputs": [],
   "source": [
    "#se crea la clase hija  donde su padre es Pedido\n",
    "class Usuario (Pedido): \n",
    "     \"\"\"\"\n",
    "     Documentación Clase Usuario\n",
    "\n",
    "     Esta clase hereda los atributos de la Clase Pedido para establecer los detalles de la persona que realiza el pedido\n",
    "\n",
    "     args:\n",
    "\n",
    "    nombre:str\n",
    "    apellido:str\n",
    "    cedula:int\n",
    "    direccion:str\n",
    "    telefono:int\n",
    "    email:str\n",
    "\n",
    "     \"\"\"\n",
    "     def __init__(self,id_pedido: int, fecha: str, productos:list, cantidades:list, precios:list, nombre:str, apellido:str, cedula:int):\n",
    "        Pedido.__init__(self, id_pedido, fecha, productos, cantidades, precios)\n",
    "        self.nombre = nombre\n",
    "        self.apellido = apellido\n",
    "        self.cedula = cedula\n",
    "     def retirarPedido(self,id_pedido:int, nombre:str, apellido:str,cedula:int):\n",
    "        \"\"\"\"\n",
    "        Se retira un pedido, para ello la función va recibir el id del pedido que se quiere retirar\n",
    "        y tambien es necesario el nombre, apellido y cedula de la persona que va a cancelar el pedido\n",
    "        \"\"\"\n",
    "        if id_pedido == self.id_pedido:\n",
    "            self.id_pedido = None\n",
    "            self.fecha = None\n",
    "            self.productos = None\n",
    "            self.cantidades = None\n",
    "            self.precios = None\n",
    "            mensaje = \"Pedido eliminado del sistema\"\n",
    "            print(f\"Pedido retirado por el Usuario {nombre}  {apellido} con cedula ciudadana : {cedula}\")\n",
    "            return mensaje\n",
    "        else:\n",
    "           return print(\"Pedido no encontrado\")"
   ]
  },
  {
   "cell_type": "markdown",
   "metadata": {},
   "source": [
    "Uso de las clases y sus métodos "
   ]
  },
  {
   "cell_type": "code",
   "execution_count": 7,
   "metadata": {},
   "outputs": [
    {
     "name": "stdout",
     "output_type": "stream",
     "text": [
      "El pedido se realizo con exito con el valor total de :2000 pesos colombianos\n",
      "Pedido retirado por el Usuario Carolina  Molina con cedula ciudadana : 1127432\n",
      "Pedido eliminado del sistema\n"
     ]
    }
   ],
   "source": [
    "\n",
    "productos_mercado = ['papa', 'huevos', 'pan']\n",
    "cantidades_mercado = [2, 3, 4]\n",
    "precios_mercado = [100, 200, 300]\n",
    "#Se crea un pedido con nombre pedido1\n",
    "pedido1 = Pedido(\n",
    "    1,\n",
    "    \"2022-01-15\",\n",
    "    productos_mercado,\n",
    "    cantidades_mercado,\n",
    "    precios_mercado\n",
    ")\n",
    "\n",
    "print (pedido1.hacerPedido(productos_mercado,\n",
    "    cantidades_mercado,\n",
    "    precios_mercado))\n",
    "\n",
    "usuario1 = Usuario(1,\n",
    "    \"2022-01-15\",\n",
    "    productos_mercado,\n",
    "    cantidades_mercado,\n",
    "    precios_mercado,\n",
    "    \"Carolina\",\n",
    "    \"Molina\",\n",
    "    1127432)\n",
    "print(usuario1.retirarPedido(1,\"Carolina\",\"Molina\", 1127432))\n"
   ]
  },
  {
   "cell_type": "markdown",
   "metadata": {},
   "source": [
    "Esta herramienta permitirá relacionar los pedidos realizados en un supermercado junto al usuario que realiza el mismo,\n",
    "permitiendo así que pueda hacer su pedido, identificar el costo de este o retirarlo. Bajo la clase de Pedido se\n",
    "podrá identificar las caracteristicas de id del pedido, fecha del pedido, productos, cantidades y precios al dia; para luego heredar estas en la clase Usuario donde se asigna los detalles de la persona que genera el pedido, tales como nombre, apellido y cédula."
   ]
  },
  {
   "cell_type": "markdown",
   "metadata": {},
   "source": [
    "Ejercicios parte 2"
   ]
  },
  {
   "cell_type": "code",
   "execution_count": 1,
   "metadata": {},
   "outputs": [],
   "source": [
    "# importamos libreria de numpy\n",
    "import numpy as np"
   ]
  },
  {
   "cell_type": "markdown",
   "metadata": {},
   "source": [
    "Ejecricio 2.1 Resolver el siguiente sistema de ecuaciones. "
   ]
  },
  {
   "cell_type": "code",
   "execution_count": 2,
   "metadata": {},
   "outputs": [],
   "source": [
    "# Se define la matriz de coeficientes A\n",
    "A = np.array([\n",
    "    [2, 3, -1, 4, 5],\n",
    "    [1, -2, 4, -3, 1],\n",
    "    [3, 2, -3, 5, -2],\n",
    "    [4, 1, -2, 3, 2],\n",
    "    [1, 1, 1, 1, 1]\n",
    "])\n",
    "\n",
    "# Se define el vector B que contiene la igualdad de cada fila de la matriz de coeficiente A\n",
    "B = np.array([15, 6, 11, 8, 7])\n",
    "# Para resolver el sistema de ecuaciones numpy cuenta con una función que se llama linalg.solve \n",
    "# Le pasamos a la función de la matriz de coeficiente de A y el vector B\n",
    "X = np.linalg.solve(A, B)\n"
   ]
  },
  {
   "cell_type": "markdown",
   "metadata": {},
   "source": [
    "Los resultados del sistema de ecuaciones "
   ]
  },
  {
   "cell_type": "code",
   "execution_count": 3,
   "metadata": {},
   "outputs": [
    {
     "name": "stdout",
     "output_type": "stream",
     "text": [
      "Los valores de x, y, z, w, v son:\n",
      "[-1.67741935 -7.87096774  5.12903226 10.          1.41935484]\n"
     ]
    }
   ],
   "source": [
    "print(\"Los valores de x, y, z, w, v son:\")\n",
    "print(X)"
   ]
  },
  {
   "cell_type": "markdown",
   "metadata": {},
   "source": [
    "Ejecicio 2.2 "
   ]
  },
  {
   "cell_type": "code",
   "execution_count": 8,
   "metadata": {},
   "outputs": [
    {
     "name": "stdout",
     "output_type": "stream",
     "text": [
      "2.7182815255731922\n"
     ]
    }
   ],
   "source": [
    "# Generamos función para el calculo del factorial dado el argumento n\n",
    "def factorial(n):\n",
    "  \"\"\"\n",
    "  Función usada para el calculo del factorial dado un número n.\n",
    "\n",
    "  In[0]: 3\n",
    "  Out[0]: 6\n",
    "  \n",
    "  \"\"\"\n",
    "  if n == 0:\n",
    "    return 1\n",
    "  else:\n",
    "    return np.prod(np.arange(1, n + 1))\n",
    "\n",
    "# Generamos función de calculo de euler dada la ecuación.\n",
    "def calculo_euler (i):\n",
    "  \"\"\"\n",
    "  Función usada para el calculo del número de euler dado el contador de la suma\n",
    "\n",
    "  In[0]: 9\n",
    "  Out[0]: 2.71828\n",
    "  \n",
    "  \"\"\"\n",
    "  return sum(1/factorial(n) for n in range(0, i+1))\n",
    "print(calculo_euler(9))"
   ]
  },
  {
   "cell_type": "markdown",
   "metadata": {},
   "source": [
    "Es necesario 9 términos para llegar a la precisión de 5 decimales en el calculo del número de euler."
   ]
  },
  {
   "cell_type": "markdown",
   "metadata": {},
   "source": [
    "Ejercicio 2.3"
   ]
  },
  {
   "cell_type": "code",
   "execution_count": 9,
   "metadata": {},
   "outputs": [],
   "source": [
    "l = [2,1,1,4,3,2,1,1,2] \n",
    "# Definimos la matriz de 3X3\n",
    "arr= np.array(l).reshape(3,3) \n",
    "# aplicamos laa funcion de algebra lineal de numpy  linalg con el metodo eig, \n",
    "val,vec=np.linalg.eig(arr) \n"
   ]
  },
  {
   "cell_type": "code",
   "execution_count": 10,
   "metadata": {},
   "outputs": [
    {
     "name": "stdout",
     "output_type": "stream",
     "text": [
      "[5.44948974 0.55051026 1.        ] [[ 3.53553391e-01  3.53553391e-01  4.99600361e-16]\n",
      " [ 8.66025404e-01 -8.66025404e-01 -7.07106781e-01]\n",
      " [ 3.53553391e-01  3.53553391e-01  7.07106781e-01]]\n"
     ]
    }
   ],
   "source": [
    "# en las variables val, vec almacenamos las dos tuplas que nos trae los primero para los valores y otras los vectores.\n",
    "print (val,vec)"
   ]
  }
 ],
 "metadata": {
  "kernelspec": {
   "display_name": "base",
   "language": "python",
   "name": "python3"
  },
  "language_info": {
   "codemirror_mode": {
    "name": "ipython",
    "version": 3
   },
   "file_extension": ".py",
   "mimetype": "text/x-python",
   "name": "python",
   "nbconvert_exporter": "python",
   "pygments_lexer": "ipython3",
   "version": "3.11.3"
  }
 },
 "nbformat": 4,
 "nbformat_minor": 2
}
